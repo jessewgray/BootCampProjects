{
 "cells": [
  {
   "cell_type": "code",
   "execution_count": 1,
   "metadata": {},
   "outputs": [],
   "source": [
    "import csv\n",
    "import os\n",
    "import operator"
   ]
  },
  {
   "cell_type": "code",
   "execution_count": 2,
   "metadata": {},
   "outputs": [],
   "source": [
    "csvpath=os.path.join(\"election_data.csv\")\n",
    "\n",
    "with open (csvpath, 'r', newline='') as csvfile:\n",
    "    election_data=csv.reader(csvfile, delimiter=\",\")\n",
    "    next(election_data, None)\n",
    "    \n",
    "    #create list of candidate names\n",
    "    #candidate appears in list as many times they have a vote\n",
    "    candidates_with_votes=[]    \n",
    "    for row in election_data:\n",
    "        candidates_with_votes.append(row[2])\n",
    "    \n",
    "#create a list of unique candidates\n",
    "candidates=list(set(candidates_with_votes))\n",
    "    \n",
    "#calculate total votes\n",
    "total_votes=len(candidates_with_votes)\n",
    "    \n",
    "#count number of votes per canidate\n",
    "correy_votes=candidates_with_votes.count(candidates[0])\n",
    "otooley_votes=candidates_with_votes.count(candidates[1])\n",
    "li_votes=candidates_with_votes.count(candidates[2])\n",
    "khan_votes=candidates_with_votes.count(candidates[3])\n",
    "\n",
    "#put the total number of votes, by candidate in a list\n",
    "vote_numbers=[correy_votes, otooley_votes, li_votes, khan_votes]\n",
    "\n",
    "#create dictionary of total number of votes by candidate (key is candidate name)\n",
    "candidate_votes = dict(zip(candidates,vote_numbers))\n",
    "\n",
    "\n",
    "#calculate vote percentages\n",
    "correy_votes_percent=round((candidates_with_votes.count(candidates[0])/total_votes*100), 2)\n",
    "otooley_votes_percent=round((candidates_with_votes.count(candidates[1])/total_votes*100),2)\n",
    "li_votes_percent=round((candidates_with_votes.count(candidates[2])/total_votes*100), 2)\n",
    "khan_votes_percent=round((candidates_with_votes.count(candidates[3])/total_votes*100),2)\n",
    "\n",
    "#put the vote percentages by candidate in a list\n",
    "vote_percentages=[correy_votes_percent, otooley_votes_percent, li_votes_percent, khan_votes_percent]\n",
    "\n",
    "#create dictionary of vote percentages (key is candidate name)\n",
    "candidate_percentages = dict(zip(candidates,vote_percentages))\n",
    "\n",
    "#find winner by greatest number of votes\n",
    "winner=max(candidate_votes.items(), key=operator.itemgetter(1))[0]"
   ]
  },
  {
   "cell_type": "code",
   "execution_count": 3,
   "metadata": {},
   "outputs": [],
   "source": [
    "#Output Election results in txt file\n",
    "output='''Election Results\n",
    "----------------\n",
    "Total Votes: {0}\n",
    "----------------\n",
    "Khan: {1}% ({2})\n",
    "Correy: {3}% ({4})\n",
    "Li: {5}% ({6})\n",
    "O'Tooley: {7}% ({8})\n",
    "----------------\n",
    "Winner: {9}\n",
    "----------------\n",
    "'''.format(total_votes, candidate_percentages[\"Khan\"], candidate_votes[\"Khan\"], candidate_percentages[\"Correy\"], candidate_votes[\"Correy\"], candidate_percentages[\"Li\"], candidate_votes[\"Li\"], candidate_percentages[\"O'Tooley\"], candidate_votes[\"O'Tooley\"], winner)\n",
    "\n",
    "output_file=os.path.join(\"PyPoll Summary.txt\")\n",
    "\n",
    "with open (output_file, \"w\") as txtfile:\n",
    "    txtfile.write(output)"
   ]
  },
  {
   "cell_type": "code",
   "execution_count": 4,
   "metadata": {},
   "outputs": [
    {
     "name": "stdout",
     "output_type": "stream",
     "text": [
      "Election Results\n",
      "----------------\n",
      "Total Votes: 3521001\n",
      "----------------\n",
      "Khan: 63.0% (2218231)\n",
      "Correy: 20.0% (704200)\n",
      "Li: 14.0% (492940)\n",
      "O'Tooley: 3.0% (105630)\n",
      "----------------\n",
      "Winner: Khan\n",
      "----------------\n",
      "\n"
     ]
    }
   ],
   "source": [
    "#print to terminal\n",
    "print(output)"
   ]
  }
 ],
 "metadata": {
  "kernelspec": {
   "display_name": "Python 3",
   "language": "python",
   "name": "python3"
  },
  "language_info": {
   "codemirror_mode": {
    "name": "ipython",
    "version": 3
   },
   "file_extension": ".py",
   "mimetype": "text/x-python",
   "name": "python",
   "nbconvert_exporter": "python",
   "pygments_lexer": "ipython3",
   "version": "3.7.0"
  }
 },
 "nbformat": 4,
 "nbformat_minor": 2
}
