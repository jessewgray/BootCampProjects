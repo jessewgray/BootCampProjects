{
 "cells": [
  {
   "cell_type": "code",
   "execution_count": 1,
   "metadata": {},
   "outputs": [],
   "source": [
    "import os\n",
    "import re"
   ]
  },
  {
   "cell_type": "code",
   "execution_count": 2,
   "metadata": {},
   "outputs": [],
   "source": [
    "#importing paragraph_1\n",
    "txt_path1=os.path.join(\"paragraph_1.txt\")\n",
    "\n",
    "with open (txt_path1, \"r\", encoding=\"utf-8\") as txtfile1:\n",
    "    paragraph_1=txtfile1.read()\n",
    "    \n",
    "#sentence count of entire passage, splitting by periods in passage\n",
    "sentences1=paragraph_1.split(\".\")\n",
    "#delete item in list which is blank string extracted from last period in passage during split\n",
    "del(sentences1[-1])\n",
    "sentence_count1=len(sentences1)\n",
    "\n",
    "#word count of entire passage, splitting by spaces in passage\n",
    "words1=paragraph_1.split(\" \")\n",
    "word_count1=len(words1)\n",
    "\n",
    "#word count of sentences to find average sentence length\n",
    "word_count_sentences1=[]\n",
    "for sentence1 in sentences1:\n",
    "    s1=sentence1.split(\" \")\n",
    "    word_count_sentences1.append(len(s1))\n",
    "average_sent_length1=round(sum(word_count_sentences1)/len(word_count_sentences1),2)\n",
    "\n",
    "#average length of word by character in entire passage (includes punctuation)\n",
    "len_word1=[]\n",
    "for word1 in words1:\n",
    "    len_word1.append(len(word1))\n",
    "average_word_length1=round(sum(len_word1)/len(len_word1),2)"
   ]
  },
  {
   "cell_type": "code",
   "execution_count": 3,
   "metadata": {},
   "outputs": [],
   "source": [
    "#output Paragraph Analysis of paragraph 1 to txt file\n",
    "output_1= '''Paragraph Analysis\n",
    "----------------------\n",
    "Approximate Word Count: {0}\n",
    "Approximate Sentence Count: {1}\n",
    "Average Letter Count: {2}\n",
    "Average Sentence Length: {3}'''.format(word_count1, sentence_count1, average_word_length1, average_sent_length1)\n",
    "\n",
    "outputfile_paragraph_1=os.path.join (\"paragraph_1 Analysis.txt\")\n",
    "\n",
    "with open(\"paragraph_1 Analysis.txt\", \"w\") as w:\n",
    "    w.write(output_1)\n"
   ]
  },
  {
   "cell_type": "code",
   "execution_count": 12,
   "metadata": {},
   "outputs": [
    {
     "name": "stdout",
     "output_type": "stream",
     "text": [
      "Paragraph Analysis\n",
      "----------------------\n",
      "Approximate Word Count: 130\n",
      "Approximate Sentence Count: 5\n",
      "Average Letter Count: 6.39\n",
      "Average Sentence Length: 26.8\n"
     ]
    }
   ],
   "source": [
    "#output to terminal\n",
    "print(output_1)"
   ]
  },
  {
   "cell_type": "code",
   "execution_count": 4,
   "metadata": {},
   "outputs": [],
   "source": [
    "#importing paragraph_2\n",
    "txt_path2=os.path.join(\"paragraph_2.txt\")\n",
    "\n",
    "with open (txt_path2, \"r\") as txtfile2:\n",
    "    paragraph_2=txtfile2.read().splitlines()\n",
    "    sentences2=[]\n",
    "    for item in paragraph_2:\n",
    "        if item==\"\":\n",
    "            pass\n",
    "        else:\n",
    "            sentences2.append(item)\n",
    "            \n",
    "#calculate number of sentences in entire passage\n",
    "sentence_count2=len(sentences2)\n",
    "\n",
    "#word count of entire passage \n",
    "words2=[]\n",
    "for sentence2 in sentences2:\n",
    "    words2.append(sentence2.split(\" \"))\n",
    "\n",
    "flattened_words2=[]\n",
    "for sublist in words2:\n",
    "    for item in sublist:\n",
    "        flattened_words2.append(item)\n",
    "\n",
    "word_count2=len(flattened_words2)\n",
    "\n",
    "#calculating average word count per sentence\n",
    "word_count_sentences2=[]\n",
    "for sentence2 in sentences2:\n",
    "    s2=sentence2.split(\" \")\n",
    "    word_count_sentences2.append(len(s2))\n",
    "average_sent_length2=round(sum(word_count_sentences2)/len(word_count_sentences2),2)\n",
    "\n",
    "#average length of word by character in entire passage (includes punctuation)\n",
    "len_word2=[]\n",
    "for word2 in flattened_words2:\n",
    "    len_word2.append(len(word2))\n",
    "average_word_length2=round(sum(len_word2)/len(len_word2),2)"
   ]
  },
  {
   "cell_type": "code",
   "execution_count": 5,
   "metadata": {},
   "outputs": [],
   "source": [
    "#output Paragraph Analysis of paragraph 2 to txt file\n",
    "output_2= '''Paragraph Analysis\n",
    "----------------------\n",
    "Approximate Word Count: {0}\n",
    "Approximate Sentence Count: {1}\n",
    "Average Letter Count: {2}\n",
    "Average Sentence Length: {3}'''.format(word_count2, sentence_count2, average_word_length2, average_sent_length2)\n",
    "\n",
    "outputfile_paragraph_2=os.path.join (\"paragraph_2 Analysis.txt\")\n",
    "\n",
    "with open(\"paragraph_2 Analysis.txt\", \"w\") as txtfile:\n",
    "    txtfile.write(output_2)\n"
   ]
  },
  {
   "cell_type": "code",
   "execution_count": 6,
   "metadata": {},
   "outputs": [
    {
     "name": "stdout",
     "output_type": "stream",
     "text": [
      "Paragraph Analysis\n",
      "----------------------\n",
      "Approximate Word Count: 285\n",
      "Approximate Sentence Count: 10\n",
      "Average Letter Count: 5.25\n",
      "Average Sentence Length: 28.5\n"
     ]
    }
   ],
   "source": [
    "#output to terminal\n",
    "print(output_2)"
   ]
  }
 ],
 "metadata": {
  "kernelspec": {
   "display_name": "Python 3",
   "language": "python",
   "name": "python3"
  },
  "language_info": {
   "codemirror_mode": {
    "name": "ipython",
    "version": 3
   },
   "file_extension": ".py",
   "mimetype": "text/x-python",
   "name": "python",
   "nbconvert_exporter": "python",
   "pygments_lexer": "ipython3",
   "version": "3.7.0"
  }
 },
 "nbformat": 4,
 "nbformat_minor": 2
}
