{
 "cells": [
  {
   "cell_type": "code",
   "execution_count": 1,
   "metadata": {},
   "outputs": [],
   "source": [
    "from splinter import Browser\n",
    "from bs4 import BeautifulSoup as bs\n",
    "from time import sleep\n",
    "import pandas as pd\n",
    "import requests\n",
    "import pymongo\n",
    "from pprint import pprint"
   ]
  },
  {
   "cell_type": "code",
   "execution_count": 2,
   "metadata": {},
   "outputs": [],
   "source": [
    "#setting up path to chrome driver for splinter\n",
    "executable_path={'executable_path':'chromedriver.exe'}"
   ]
  },
  {
   "cell_type": "code",
   "execution_count": 3,
   "metadata": {},
   "outputs": [],
   "source": [
    "#define function to remove ending substring from string\n",
    "def remove_substring(string, substring):\n",
    "    if substring in string:\n",
    "        return string[:-len(substring)]\n",
    "    return string"
   ]
  },
  {
   "cell_type": "code",
   "execution_count": 4,
   "metadata": {},
   "outputs": [],
   "source": [
    "# from fake_useragent import UserAgent\n",
    "# ua = UserAgent()\n",
    "# ua.chrome"
   ]
  },
  {
   "cell_type": "code",
   "execution_count": 5,
   "metadata": {},
   "outputs": [],
   "source": [
    "#creating headers (from https://stackoverflow.com/questions/27652543/how-to-use-python-requests-to-fake-a-browser-visit)\n",
    "# headers = {'User-Agent': 'Mozilla/5.0 (Windows NT 10.0) AppleWebKit/537.36 (KHTML, like Gecko) Chrome/71.0.3578.98 Safari/537.36'}\n",
    "# headers = {'User-Agent': 'Mozilla/5.0 (X11; CrOS i686 3912.101.0) AppleWebKit/537.36 (KHTML, like Gecko) Chrome/27.0.1453.116 Safari/537.36'}"
   ]
  },
  {
   "cell_type": "code",
   "execution_count": 6,
   "metadata": {},
   "outputs": [],
   "source": [
    "#url with latest NASA stories\n",
    "# url_1 = 'https://mars.nasa.gov/news/?page=0&per_page=40&order=publish_date+desc%2Ccreated_at+desc&search=&category=19%2C165%2C184%2C204&blank_scope=Latest'\n",
    "# response=requests.get(url_1, headers=headers)\n",
    "\n",
    "#set up parser\n",
    "# soup = bs(response.content, 'lxml')\n",
    "\n",
    "#get latest news articles\n",
    "# date_latest=soup.find('div', class_='list_date').text\n",
    "# title_latest=soup.find('div', class_='content_title').text\n",
    "# summary_latest=soup.find('div', class_='article_teaser_body').text\n"
   ]
  },
  {
   "cell_type": "code",
   "execution_count": 7,
   "metadata": {},
   "outputs": [],
   "source": [
    "#url with latest NASA stories\n",
    "browser = Browser('chrome', **executable_path, headless=False)\n",
    "url_1 = 'https://mars.nasa.gov/news/?page=0&per_page=40&order=publish_date+desc%2Ccreated_at+desc&search=&category=19%2C165%2C184%2C204&blank_scope=Latest'\n",
    "browser.visit(url_1)\n",
    "\n",
    "#set up parser\n",
    "html = browser.html\n",
    "soup = bs(html, 'lxml')\n",
    "\n",
    "#get latest news articles\n",
    "date_latest=soup.find('div', class_='list_date').text\n",
    "title_latest=soup.find('div', class_='content_title').text\n",
    "summary_latest=soup.find('div', class_='article_teaser_body').text\n",
    "\n",
    "#close browser\n",
    "browser.quit()\n",
    "\n",
    "News_dict={\"Date\":date_latest,\n",
    "           \"Title\": title_latest,\n",
    "           \"Summary\": summary_latest}"
   ]
  },
  {
   "cell_type": "code",
   "execution_count": 8,
   "metadata": {},
   "outputs": [
    {
     "name": "stdout",
     "output_type": "stream",
     "text": [
      "{'Date': 'January 28, 2019',\n",
      " 'Summary': 'The Mars rover is moving on and has taken its last selfie on the '\n",
      "            \"ridge it's explored for more than a year.\",\n",
      " 'Title': \"Curiosity Says Farewell to Mars' Vera Rubin Ridge\"}\n"
     ]
    }
   ],
   "source": [
    "pprint(News_dict)"
   ]
  },
  {
   "cell_type": "code",
   "execution_count": 9,
   "metadata": {},
   "outputs": [],
   "source": [
    "#getting featured image (with splinter)\n",
    "browser = Browser('chrome', **executable_path, headless=False)\n",
    "url_2 = 'https://www.jpl.nasa.gov/spaceimages/?search=&category=Mars'\n",
    "browser.visit(url_2)\n",
    "\n",
    "#clicking the FULL IMAGE BUTTON\n",
    "browser.find_by_xpath('//*[@id=\"full_image\"]').click()\n",
    "#clicking the expand button\n",
    "browser.find_by_xpath('//*[@id=\"fancybox-lock\"]/div/div[1]/a[3]').click()\n",
    "\n",
    "#set up parser\n",
    "html = browser.html\n",
    "soup = bs(html, 'lxml')\n",
    "\n",
    "#find featured image source\n",
    "featured_image=soup.find('img', class_='fancybox-image')\n",
    "featured_image_url='https://www.jpl.nasa.gov'+featured_image['src']\n",
    "featured_image_title=soup.find('div', class_='fancybox-title')\n",
    "\n",
    "#removing substring (from a tag) from title\n",
    "try:\n",
    "    featured_image_title_full=featured_image_title.text\n",
    "    featured_image_title_a=featured_image_title.div.text\n",
    "    featured_image_title=remove_substring(featured_image_title_full, featured_image_title_a)\n",
    "except:\n",
    "    featured_image_title=featured_image_title_full\n",
    "\n",
    "#close browser\n",
    "browser.quit()\n",
    "\n",
    "Featured_Img_Dict={\"Title\": featured_image_title,\n",
    "                   \"Source\": featured_image_url}"
   ]
  },
  {
   "cell_type": "code",
   "execution_count": 10,
   "metadata": {},
   "outputs": [
    {
     "name": "stdout",
     "output_type": "stream",
     "text": [
      "{'Source': 'https://www.jpl.nasa.gov/spaceimages/images/mediumsize/PIA16105_ip.jpg',\n",
      " 'Title': 'Layers at the Base of Mount Sharp'}\n"
     ]
    }
   ],
   "source": [
    "pprint(Featured_Img_Dict)"
   ]
  },
  {
   "cell_type": "code",
   "execution_count": 11,
   "metadata": {},
   "outputs": [],
   "source": [
    "#getting featured image (without splinter)\n",
    "url_2 = 'https://www.jpl.nasa.gov/spaceimages/?search=&category=Mars'\n",
    "response=requests.get(url_2)\n",
    "\n",
    "#set up parser\n",
    "soup = bs(response.content, 'lxml')\n",
    "\n",
    "featured_image=soup.find(\"div\", class_=\"carousel_items\")\n",
    "featured_image_title=featured_image.article['alt']\n",
    "#have to remove url string in brackets from html code\n",
    "featured_image_url='https://www.jpl.nasa.gov'+(featured_image.article['style'])[(featured_image.article['style']).find(\"(\")+2:(featured_image.article['style']).find(\")\")-1]\n",
    "\n",
    "Featured_Img_Dict={\"Title\": featured_image_title,\n",
    "                   \"Source\": featured_image_url}"
   ]
  },
  {
   "cell_type": "code",
   "execution_count": 12,
   "metadata": {},
   "outputs": [
    {
     "name": "stdout",
     "output_type": "stream",
     "text": [
      "{'Source': 'https://www.jpl.nasa.gov/spaceimages/images/wallpaper/PIA16105-1920x1200.jpg',\n",
      " 'Title': 'Layers at the Base of Mount Sharp'}\n"
     ]
    }
   ],
   "source": [
    "pprint(Featured_Img_Dict)"
   ]
  },
  {
   "cell_type": "code",
   "execution_count": 13,
   "metadata": {},
   "outputs": [],
   "source": [
    "#visitng MarsWeather Twitter page\n",
    "url_3='https://twitter.com/marswxreport?lang=en'\n",
    "response=requests.get(url_3)\n",
    "\n",
    "#set up parser\n",
    "soup=bs(response.text, 'lxml')\n",
    "\n",
    "#finding latest tweet for Mars weather\n",
    "mars_weather=soup.find('div', class_='js-tweet-text-container')\n",
    "\n",
    "#dividing into p and a tags (sometimes a tag does not exist) and removing a tag from ptag with remove substring function\n",
    "try:\n",
    "    mars_weather_p=mars_weather.p.text\n",
    "    mars_weather_a=mars_weather.a.text\n",
    "    mars_weather_today=remove_substring(mars_weather_p, mars_weather_a)\n",
    "except:\n",
    "    mars_weather_today=mars_weather_p\n",
    "\n",
    "Mars_weather_dict={\"Mars Weather\": mars_weather_today}"
   ]
  },
  {
   "cell_type": "code",
   "execution_count": 14,
   "metadata": {},
   "outputs": [
    {
     "name": "stdout",
     "output_type": "stream",
     "text": [
      "{'Mars Weather': 'Sol 2302 (2019-01-27), high -7C/19F, low -73C/-99F, pressure '\n",
      "                 'at 8.15 hPa, daylight 06:47-18:54'}\n"
     ]
    }
   ],
   "source": [
    "pprint(Mars_weather_dict)"
   ]
  },
  {
   "cell_type": "code",
   "execution_count": 15,
   "metadata": {},
   "outputs": [],
   "source": [
    "#mars facts\n",
    "url_4='https://space-facts.com/mars/'\n",
    "facts=pd.read_html(url_4)\n",
    "mars_facts=facts[0]\n",
    "mars_facts.columns=['Mars Planet Profile', 'Fact Value']\n",
    "\n",
    "mars_facts_dict=mars_facts.set_index('Mars Planet Profile').to_dict()['Fact Value']"
   ]
  },
  {
   "cell_type": "code",
   "execution_count": 16,
   "metadata": {},
   "outputs": [
    {
     "name": "stdout",
     "output_type": "stream",
     "text": [
      "{'Equatorial Diameter:': '6,792 km',\n",
      " 'First Record:': '2nd millennium BC',\n",
      " 'Mass:': '6.42 x 10^23 kg (10.7% Earth)',\n",
      " 'Moons:': '2 (Phobos & Deimos)',\n",
      " 'Orbit Distance:': '227,943,824 km (1.52 AU)',\n",
      " 'Orbit Period:': '687 days (1.9 years)',\n",
      " 'Polar Diameter:': '6,752 km',\n",
      " 'Recorded By:': 'Egyptian astronomers',\n",
      " 'Surface Temperature:': '-153 to 20 °C'}\n"
     ]
    }
   ],
   "source": [
    "pprint(mars_facts_dict)"
   ]
  },
  {
   "cell_type": "code",
   "execution_count": 17,
   "metadata": {},
   "outputs": [],
   "source": [
    "#faces of mars images\n",
    "# url_5='https://astrogeology.usgs.gov/search/results?q=hemisphere+enhanced&k1=target&v1=Mars'\n",
    "\n",
    "#alternate website used because of government shutdown\n",
    "url_5='http://www.planetary.org/blogs/guest-blogs/bill-dunford/20140203-the-faces-of-mars.html'\n",
    "response=requests.get(url_5)\n",
    "\n",
    "#setup parser\n",
    "soup=bs(response.text, 'lxml')\n",
    "\n",
    "#parse to get images\n",
    "hemispheres=soup.find_all('img', class_='img840')\n",
    "hemisphere_pic_dict={}\n",
    "\n",
    "\n",
    "#loop through images and get picture link and title of pic and put in dictionary (remove extra space at end of str if exists and 'Mars: ' from beginning)\n",
    "for hemisphere in hemispheres:\n",
    "    title=hemisphere['alt']\n",
    "    image_src=hemisphere['src']\n",
    "    if title[-1]==' ':\n",
    "        title=title[:-len(title[-1])]\n",
    "    if title[0:6]=='Mars: ':\n",
    "        title=title[6:]\n",
    "    hemisphere_pic_dict[title]= image_src"
   ]
  },
  {
   "cell_type": "code",
   "execution_count": 18,
   "metadata": {},
   "outputs": [
    {
     "name": "stdout",
     "output_type": "stream",
     "text": [
      "{'Cerberus Hemisphere': 'https://planetary.s3.amazonaws.com/assets/images/4-mars/2014/20140202_cerberus_enhanced_f840.jpg',\n",
      " 'Schiaparelli Hemisphere': 'https://planetary.s3.amazonaws.com/assets/images/4-mars/2014/20140202_schiaparelli_enhanced_f840.jpg',\n",
      " 'Syrtis Major Hemisphere': 'https://planetary.s3.amazonaws.com/assets/images/4-mars/2014/20140202_syrtis_major_enhanced_f840.jpg',\n",
      " 'Valles Marineris Hemisphere': 'https://planetary.s3.amazonaws.com/assets/images/4-mars/2014/20140202_valles_marineris_enhanced_f840.jpg'}\n"
     ]
    }
   ],
   "source": [
    "pprint(hemisphere_pic_dict)"
   ]
  },
  {
   "cell_type": "code",
   "execution_count": 19,
   "metadata": {},
   "outputs": [],
   "source": [
    "#Create Connection to MongoDB\n",
    "conn=\"mongodb://localhost:27017\"\n",
    "client=pymongo.MongoClient(conn)"
   ]
  },
  {
   "cell_type": "code",
   "execution_count": 20,
   "metadata": {},
   "outputs": [],
   "source": [
    "#create MarsDB database on MongoDB\n",
    "MarsDB = client[\"MarsDB\"]"
   ]
  },
  {
   "cell_type": "code",
   "execution_count": 21,
   "metadata": {},
   "outputs": [
    {
     "name": "stderr",
     "output_type": "stream",
     "text": [
      "C:\\ProgramData\\Anaconda3\\lib\\site-packages\\ipykernel_launcher.py:26: DeprecationWarning: insert is deprecated. Use insert_one or insert_many instead.\n",
      "C:\\ProgramData\\Anaconda3\\lib\\site-packages\\ipykernel_launcher.py:27: DeprecationWarning: insert is deprecated. Use insert_one or insert_many instead.\n",
      "C:\\ProgramData\\Anaconda3\\lib\\site-packages\\ipykernel_launcher.py:28: DeprecationWarning: insert is deprecated. Use insert_one or insert_many instead.\n",
      "C:\\ProgramData\\Anaconda3\\lib\\site-packages\\ipykernel_launcher.py:29: DeprecationWarning: insert is deprecated. Use insert_one or insert_many instead.\n",
      "C:\\ProgramData\\Anaconda3\\lib\\site-packages\\ipykernel_launcher.py:30: DeprecationWarning: insert is deprecated. Use insert_one or insert_many instead.\n"
     ]
    },
    {
     "data": {
      "text/plain": [
       "ObjectId('5c52105e306bc53e9cdfd4f4')"
      ]
     },
     "execution_count": 21,
     "metadata": {},
     "output_type": "execute_result"
    }
   ],
   "source": [
    "#inserting the following dictionaries into MongoDB database MarsDB\n",
    "# News_dict\n",
    "# Featured_Img_Dict\n",
    "# Mars_weather_dict\n",
    "# mars_facts_dict\n",
    "# hemisphere_pic_dict\n",
    "\n",
    "#drop collections if exist\n",
    "try:\n",
    "    MarsDB.drop_collection('marsNews')\n",
    "    MarsDB.drop_collection('featuredImage')\n",
    "    MarsDB.drop_collection('marsFacts')\n",
    "    MarsDB.drop_collection('marsWeather')\n",
    "    MarsDB.drop_collection('marsHemiPics')\n",
    "except:\n",
    "    pass\n",
    "    \n",
    "#creating collections\n",
    "Mars_News=MarsDB['marsNews']\n",
    "Featured_Img=MarsDB['featuredImage']\n",
    "Mars_Facts=MarsDB['marsFacts']\n",
    "Mars_Weather=MarsDB['marsWeather']\n",
    "Mars_Hemi_Pics=MarsDB['marsHemiPics']\n",
    "\n",
    "#inserting dictionaries into empty collections\n",
    "Mars_News.insert(News_dict)\n",
    "Featured_Img.insert(Featured_Img_Dict)\n",
    "Mars_Facts.insert(mars_facts_dict)\n",
    "Mars_Weather.insert(Mars_weather_dict)\n",
    "Mars_Hemi_Pics.insert(hemisphere_pic_dict)\n"
   ]
  }
 ],
 "metadata": {
  "kernelspec": {
   "display_name": "Python 3",
   "language": "python",
   "name": "python3"
  },
  "language_info": {
   "codemirror_mode": {
    "name": "ipython",
    "version": 3
   },
   "file_extension": ".py",
   "mimetype": "text/x-python",
   "name": "python",
   "nbconvert_exporter": "python",
   "pygments_lexer": "ipython3",
   "version": "3.6.8"
  }
 },
 "nbformat": 4,
 "nbformat_minor": 2
}
