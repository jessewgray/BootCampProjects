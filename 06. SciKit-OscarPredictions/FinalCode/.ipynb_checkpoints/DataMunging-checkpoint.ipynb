{
 "cells": [
  {
   "cell_type": "code",
   "execution_count": 1,
   "metadata": {},
   "outputs": [
    {
     "name": "stderr",
     "output_type": "stream",
     "text": [
      "C:\\ProgramData\\Anaconda3\\lib\\site-packages\\fuzzywuzzy\\fuzz.py:11: UserWarning: Using slow pure-python SequenceMatcher. Install python-Levenshtein to remove this warning\n",
      "  warnings.warn('Using slow pure-python SequenceMatcher. Install python-Levenshtein to remove this warning')\n"
     ]
    }
   ],
   "source": [
    "import matplotlib.pyplot as plt\n",
    "import pandas as pd\n",
    "import numpy as np\n",
    "import requests\n",
    "import time\n",
    "from functools import reduce\n",
    "import matplotlib as plt\n",
    "from fuzzywuzzy import fuzz\n",
    "from fuzzywuzzy import process"
   ]
  },
  {
   "cell_type": "code",
   "execution_count": null,
   "metadata": {},
   "outputs": [
    {
     "name": "stderr",
     "output_type": "stream",
     "text": [
      "C:\\ProgramData\\Anaconda3\\lib\\site-packages\\pandas\\core\\indexing.py:189: SettingWithCopyWarning: \n",
      "A value is trying to be set on a copy of a slice from a DataFrame\n",
      "\n",
      "See the caveats in the documentation: http://pandas.pydata.org/pandas-docs/stable/indexing.html#indexing-view-versus-copy\n",
      "  self._setitem_with_indexer(indexer, value)\n"
     ]
    }
   ],
   "source": [
    "#import csv of oscar winners\n",
    "oscar_movie_db=pd.read_csv(\"../DataSources/Oscars1934-2015.csv\")\n",
    "pd.to_numeric(oscar_movie_db.Year, errors='coerce')\n",
    "\n",
    "#Ensure that all the \"Names\" in the oscar_movie_db are formated correctly (no spaces at end of name)\n",
    "for i,row in oscar_movie_db.iterrows():    \n",
    "    j = oscar_movie_db['Name'].iloc[i]\n",
    "    if j[-1] != \" \":\n",
    "        pass\n",
    "    else:\n",
    "        j=j[:-1]\n",
    "        oscar_movie_db['Name'].iloc[i]=j\n",
    "\n",
    "#fix Moulin Rouge 1952 and Moulin Rouge 2001 (remake of movie) so that these movies are treated distinct\n",
    "for i,film in oscar_movie_db.iterrows():\n",
    "    if oscar_movie_db['Name'][i]=='Moulin Rouge' and oscar_movie_db['Year'][i]==1952:\n",
    "        oscar_movie_db['Name'][i]='Moulin Rouge 1952'\n",
    "    if oscar_movie_db['Name'][i]=='Moulin Rouge' and oscar_movie_db['Year'][i]==2001:\n",
    "        oscar_movie_db['Name'][i]='Moulin Rouge 2001'\n",
    "    if oscar_movie_db['Film'][i]=='Moulin Rouge' and oscar_movie_db['Year'][i]==1952:\n",
    "        oscar_movie_db['Film'][i]='Moulin Rouge 1952'\n",
    "    if oscar_movie_db['Film'][i]=='Moulin Rouge' and oscar_movie_db['Year'][i]==2001:\n",
    "        oscar_movie_db['Film'][i]='Moulin Rouge 2001'      \n",
    "\n",
    "#create a movie list of best picture movie winners and nominees list\n",
    "df_movies = oscar_movie_db[((oscar_movie_db['Award']== 'Best Picture')|(oscar_movie_db['Award']== 'Best Motion Picture'))]\n",
    "df_movies=df_movies.reset_index(drop=True)\n",
    "movies= list(df_movies['Name'])\n",
    "        \n",
    "#create a best picture winner movie list\n",
    "df_winners = oscar_movie_db[((oscar_movie_db['Award']== 'Best Picture')|(oscar_movie_db['Award']== 'Best Motion Picture'))&(oscar_movie_db['Winner'] == 1)]\n",
    "df_winners=df_winners.reset_index(drop=True)\n",
    "winners= list(df_winners['Name'])\n",
    "\n",
    "#create a best picture nominee list\n",
    "df_losers = oscar_movie_db[((oscar_movie_db['Award']== 'Best Picture')|(oscar_movie_db['Award']== 'Best Motion Picture'))&(oscar_movie_db['Winner'] == 0)]\n",
    "df_losers=df_losers.reset_index(drop=True)\n",
    "losers= list(df_losers['Name'])\n",
    "\n",
    "#Best Picture dataframe (winners and losers)\n",
    "df_bestPicture=oscar_movie_db[((oscar_movie_db['Award']== 'Best Picture')|(oscar_movie_db['Award']== 'Best Motion Picture'))]\n",
    "df_bestPicture=df_bestPicture.reset_index(drop=True)\n",
    "df_bestPicture=df_bestPicture[[\"Name\", \"Winner\", \"Film\", \"Year\"]].rename(columns={\"Winner\": \"Best Picture\", \"Film\": \"Prod Company\", \"Name\":\"Title\"})\n",
    "\n",
    "#Best Actor dataframe\n",
    "df_bestActor=oscar_movie_db[((oscar_movie_db['Award']== 'Actor')|(oscar_movie_db['Award']== 'Actor in a Leading Role'))]\n",
    "df_bestActor=df_bestActor.reset_index(drop=True)\n",
    "df_bestActor=df_bestActor[[\"Film\", \"Winner\"]].rename(columns={\"Winner\": \"Best Actor\", \"Film\": \"Title\"})\n",
    "#correct for mulitple cast nominations\n",
    "df_bestActor=df_bestActor.groupby('Title', as_index=False).agg({\"Best Actor\":np.sum})\n",
    "\n",
    "#Best Actress dataframe\n",
    "df_bestActress=oscar_movie_db[((oscar_movie_db['Award']== 'Actress')|(oscar_movie_db['Award']== 'Actress in a Leading Role'))]\n",
    "df_bestActress=df_bestActress.reset_index(drop=True)\n",
    "df_bestActress=df_bestActress[[\"Film\", \"Winner\"]].rename(columns={\"Winner\": \"Best Actress\", \"Film\": \"Title\"})\n",
    "#correct for mulitple cast nominations\n",
    "df_bestActress=df_bestActress.groupby('Title', as_index=False).agg({\"Best Actress\":np.sum})\n",
    "\n",
    "#Best Supporting Actor dataframe\n",
    "df_bestSuppActor=oscar_movie_db[(oscar_movie_db['Award']== 'Actor in a Supporting Role')]\n",
    "df_bestSuppActor=df_bestSuppActor.reset_index(drop=True)\n",
    "df_bestSuppActor=df_bestSuppActor[[\"Film\", \"Winner\"]].rename(columns={\"Winner\": \"Best Supporting Actor\", \"Film\": \"Title\"})\n",
    "#correct for mulitple cast nominations\n",
    "df_bestSuppActor=df_bestSuppActor.groupby('Title', as_index=False).agg({\"Best Supporting Actor\":np.sum})\n",
    "\n",
    "#Best Supporting Actress dataframe\n",
    "df_bestSuppActress=oscar_movie_db[(oscar_movie_db['Award']== 'Actress in a Supporting Role')]\n",
    "df_bestSuppActress=df_bestSuppActress.reset_index(drop=True)\n",
    "df_bestSuppActress=df_bestSuppActress[[\"Film\", \"Winner\"]].rename(columns={\"Winner\": \"Best Supporting Actress\", \"Film\": \"Title\"})\n",
    "#correct for mulitple cast nominations\n",
    "df_bestSuppActress=df_bestSuppActress.groupby('Title', as_index=False).agg({\"Best Supporting Actress\":np.sum})\n",
    "\n",
    "#Best Directors Database dataframe\n",
    "df_bestDirectors=oscar_movie_db[(oscar_movie_db['Award']== 'Directing')]\n",
    "df_bestDirectors=df_bestDirectors.reset_index(drop=True)\n",
    "df_bestDirectors=df_bestDirectors[[\"Name\", \"Winner\"]].rename(columns={\"Winner\": \"Best Director\", \"Name\": \"Title\"})\n",
    "#correct for mulitple cast nominations\n",
    "df_bestDirectors=df_bestDirectors.groupby('Title', as_index=False).agg({\"Best Director\":np.sum})\n"
   ]
  },
  {
   "cell_type": "code",
   "execution_count": null,
   "metadata": {},
   "outputs": [],
   "source": [
    "#OMBD Calls - done on movies list\n",
    "theMoviesDF_OMBD = pd.read_csv('../DataSources/theMoviesDF_OMBD.csv')\n",
    "\n",
    "#correct for remake of Moulin Rouge (able to distinguish between 2001 and 1952 versions)\n",
    "for i,row in theMoviesDF_OMBD.iterrows():    \n",
    "    j = theMoviesDF_OMBD['Title'][i]\n",
    "    if j=='Moulin Rouge' and theMoviesDF_OMBD['Year'][i]==1952:\n",
    "        j='Moulin Rouge 1952'\n",
    "        theMoviesDF_OMBD['Title'][i]=j\n",
    "    if j=='Moulin Rouge!' and theMoviesDF_OMBD['Year'][i]==2001:\n",
    "        j='Moulin Rouge 2001'\n",
    "        theMoviesDF_OMBD['Title'][i]=j\n",
    "\n",
    "theMoviesDF_OMBD.head()"
   ]
  },
  {
   "cell_type": "code",
   "execution_count": null,
   "metadata": {},
   "outputs": [],
   "source": [
    "#TMDB Calls\n",
    "theMoviesDF_TMDB=pd.read_csv('../DataSources/theMoviesDF_TMDB.csv')#.rename(columns={\"Name\":\"Title\"})\n",
    "\n",
    "#remove space at end of title name and correct for remake of Moulin Rouge (able to distinguish between 2001 and 1952 versions) and fix MASH title\n",
    "for i,row in theMoviesDF_TMDB.iterrows():    \n",
    "    j = theMoviesDF_TMDB['Title'][i]\n",
    "    if j=='Moulin Rouge' and theMoviesDF_TMDB['Release Date'][i][0:4]=='1952':\n",
    "        j='Moulin Rouge 1952'\n",
    "        theMoviesDF_TMDB['Title'][i]=j\n",
    "    if j=='Moulin Rouge!' and theMoviesDF_TMDB['Release Date'][i][0:4]=='2001':\n",
    "        j='Moulin Rouge 2001'\n",
    "        theMoviesDF_TMDB['Title'][i]=j\n",
    "    if j=='M*A*S*H':\n",
    "        j='MASH'\n",
    "        theMoviesDF_TMDB['Title'][i]=j\n",
    "    \n",
    "theMoviesDF_TMDB.head()"
   ]
  },
  {
   "cell_type": "code",
   "execution_count": null,
   "metadata": {},
   "outputs": [],
   "source": [
    "#fix any title discrepancies between OMDB and df_bestPicture dataframes by replacing incorrect OMDB names with df_bestPicture names \n",
    "bad_names_OMBD=[]\n",
    "correct_names_db=[]\n",
    "\n",
    "for i in theMoviesDF_OMBD[\"Title\"].values:\n",
    "    if i in df_bestPicture[\"Title\"].values:\n",
    "        pass\n",
    "    else:\n",
    "        bad_names_OMBD.append(i)\n",
    "\n",
    "\n",
    "for i in df_bestPicture[\"Title\"].values:\n",
    "    if i in theMoviesDF_OMBD[\"Title\"].values:\n",
    "        pass\n",
    "    else:\n",
    "        correct_names_db.append(i)\n",
    "\n",
    "bad_names_OMBD"
   ]
  },
  {
   "cell_type": "code",
   "execution_count": null,
   "metadata": {},
   "outputs": [],
   "source": [
    "correct_names_db"
   ]
  },
  {
   "cell_type": "code",
   "execution_count": null,
   "metadata": {},
   "outputs": [],
   "source": [
    "#use string matching to match titles between OMBD table and TMDB table with cut off score of 80\n",
    "temp_list=[]\n",
    "for title in bad_names_OMBD:\n",
    "    try:\n",
    "        result, score = process.extractOne(title, correct_names_db,scorer=fuzz.token_set_ratio, score_cutoff=80)\n",
    "        temp_list.append({'OMDB Title': title, 'db Title': result, 'Score':score})\n",
    "    except:\n",
    "        pass\n",
    "title_fix = pd.DataFrame(temp_list)\n",
    "title_fix\n",
    "\n",
    "# create dictionary for title corrections\n",
    "title_corrections=title_fix.set_index('OMDB Title').to_dict()['db Title']\n",
    "title_corrections\n",
    "\n",
    "#replace titles in TMDB table with correct names\n",
    "for k,v in title_corrections.items():\n",
    "    theMoviesDF_OMBD['Title'].loc[theMoviesDF_OMBD[\"Title\"]==k] = v"
   ]
  },
  {
   "cell_type": "code",
   "execution_count": null,
   "metadata": {},
   "outputs": [],
   "source": [
    "#fix any title discrepancies between TMDB and df_bestPicture dataframes by replacing incorrect TMDB names with df_bestPicture names\n",
    "bad_names_TMDB=[]\n",
    "correct_names_db=[]\n",
    "\n",
    "for i in theMoviesDF_TMDB[\"Title\"].values:\n",
    "    if i in df_bestPicture[\"Title\"].values:\n",
    "        pass\n",
    "    else:\n",
    "        bad_names_TMDB.append(i)\n",
    "\n",
    "\n",
    "for i in df_bestPicture[\"Title\"].values:\n",
    "    if i in theMoviesDF_TMDB[\"Title\"].values:\n",
    "        pass\n",
    "    else:\n",
    "        correct_names_db.append(i)\n",
    "\n",
    "bad_names_TMDB"
   ]
  },
  {
   "cell_type": "code",
   "execution_count": null,
   "metadata": {},
   "outputs": [],
   "source": [
    "correct_names_db"
   ]
  },
  {
   "cell_type": "code",
   "execution_count": null,
   "metadata": {},
   "outputs": [],
   "source": [
    "#use string matching to match titles between OMBD table and TMDB table with cut off score of 80\n",
    "temp_list=[]\n",
    "for title in bad_names_TMDB:\n",
    "    try:\n",
    "        result, score = process.extractOne(title, correct_names_db,scorer=fuzz.token_set_ratio, score_cutoff=80)\n",
    "        temp_list.append({'TMDB Title': title, 'db Title': result, 'Score':score})\n",
    "    except:\n",
    "        pass\n",
    "title_fix = pd.DataFrame(temp_list)\n",
    "title_fix\n",
    "\n",
    "# create dictionary for title corrections\n",
    "title_corrections=title_fix.set_index('TMDB Title').to_dict()['db Title']\n",
    "title_corrections\n",
    "\n",
    "#replace titles in TMDB table with correct names\n",
    "for k,v in title_corrections.items():\n",
    "    theMoviesDF_TMDB['Title'].loc[theMoviesDF_TMDB[\"Title\"]==k] = v"
   ]
  },
  {
   "cell_type": "code",
   "execution_count": null,
   "metadata": {},
   "outputs": [],
   "source": [
    "theMoviesDF_OMBD.shape"
   ]
  },
  {
   "cell_type": "code",
   "execution_count": null,
   "metadata": {},
   "outputs": [],
   "source": [
    "theMoviesDF_TMDB.shape"
   ]
  },
  {
   "cell_type": "markdown",
   "metadata": {},
   "source": [
    "# EXTRACTING INFO FROM API CALLS"
   ]
  },
  {
   "cell_type": "code",
   "execution_count": null,
   "metadata": {},
   "outputs": [],
   "source": [
    "#DataFrame by Genre (OMBD)\n",
    "genreMovies=theMoviesDF_OMBD[['Title', 'Genre']]\n",
    "\n",
    "for i in range(len(genreMovies['Genre'])):\n",
    "    x=genreMovies['Genre'][i].split(\", \")\n",
    "    genreMovies['Genre'][i]=x\n",
    "\n",
    "s=genreMovies.apply(lambda x:pd.Series(x['Genre']), axis=1).stack().reset_index(level=1, drop=True)\n",
    "s.name = 'Genre'\n",
    "BP_genres_qual=genreMovies.drop('Genre', axis=1).join(s)\n",
    "BP_genres=pd.get_dummies(BP_genres_qual, columns=['Genre'])\n",
    "BP_genres=BP_genres.groupby('Title').sum()"
   ]
  },
  {
   "cell_type": "code",
   "execution_count": null,
   "metadata": {},
   "outputs": [],
   "source": [
    "BP_genres_qual.shape"
   ]
  },
  {
   "cell_type": "code",
   "execution_count": null,
   "metadata": {},
   "outputs": [],
   "source": [
    "#Dataframe by IMBD rating (OMBD)\n",
    "BP_IMBD=theMoviesDF_OMBD[['Title','imdbRating']]\n",
    "\n",
    "#Dataframe by Rating (OMBD)\n",
    "BP_Rating_qual=theMoviesDF_OMBD[['Title','Rated']]\n",
    "#consolidate certain ratings\n",
    "BP_Rating_qual['Rated']=BP_Rating_qual['Rated'].replace({'GP':'PG',\n",
    "                                                        'M/PG': 'PG',\n",
    "                                                        'TV-MA': 'R',\n",
    "                                                        'TV-PG': 'PG',\n",
    "                                                        'PASSED':'APPROVED',\n",
    "                                                        'NOT RATED': 'UNRATED'})\n",
    "BP_Rating=pd.get_dummies(BP_Rating_qual, columns=['Rated'])\n",
    "\n",
    "#Dataframe by Country (OMBD)\n",
    "BP_Country_qual=theMoviesDF_OMBD[['Title','Country']]\n",
    "BP_Country=pd.get_dummies(BP_Country_qual, columns=['Country'])"
   ]
  },
  {
   "cell_type": "code",
   "execution_count": null,
   "metadata": {},
   "outputs": [],
   "source": [
    "#Dataframe by Revenue and Budget (TMDB)\n",
    "BP_Revenue_Budget=theMoviesDF_TMDB[['Title','Revenue', 'Budget']]\n",
    "\n",
    "#Dataframe by Popularity (TMDB)\n",
    "BP_Popularity = theMoviesDF_TMDB[['Title','Popularity']]\n",
    "\n",
    "#Dataframe by Run Time (TMDB)\n",
    "BP_Runtime = theMoviesDF_TMDB[['Title','Runtime']]"
   ]
  },
  {
   "cell_type": "code",
   "execution_count": null,
   "metadata": {},
   "outputs": [],
   "source": [
    "#Dataframe for Release Month (TMDB)\n",
    "BP_RelMonth_qual = theMoviesDF_TMDB[['Title','Release Date']]\n",
    "for i in range(len(BP_RelMonth_qual['Release Date'])):\n",
    "    x=BP_RelMonth_qual['Release Date'][i].split(\"-\")\n",
    "    BP_RelMonth_qual['Release Date'][i]=x[1]\n",
    "\n",
    "BP_RelMonth=pd.get_dummies(BP_RelMonth_qual, columns=['Release Date'])"
   ]
  },
  {
   "cell_type": "code",
   "execution_count": null,
   "metadata": {},
   "outputs": [],
   "source": [
    "#create a spreadsheet of all info (can have string as values)\n",
    "theMoviesDF=pd.merge(df_bestPicture,BP_IMBD, on=\"Title\", how='right')\n",
    "\n",
    "dfs=[theMoviesDF, BP_Country_qual, BP_Country_qual, BP_Popularity, BP_Rating_qual, BP_RelMonth_qual, BP_Revenue_Budget, BP_Runtime, BP_genres_qual, df_bestActor, df_bestActress, df_bestDirectors, df_bestSuppActor, df_bestSuppActress]\n",
    "theMoviesDF_qual = reduce(lambda df1,df2: pd.merge(df1,df2,on=['Title'], how='left'), dfs)\n",
    "theMoviesDF_qual.fillna(0, inplace=True)\n",
    "# theMoviesDF_qual.to_csv('../DataSources/theMovieFeatures_qual.csv', index=False)\n",
    "theMoviesDF_qual.shape"
   ]
  },
  {
   "cell_type": "code",
   "execution_count": null,
   "metadata": {},
   "outputs": [],
   "source": [
    "#create a spreadsheet of all info (cannot have string as values)\n",
    "dfs=[theMoviesDF, BP_Popularity, BP_Rating, BP_RelMonth, BP_Revenue_Budget, BP_Runtime, BP_genres, df_bestActor, df_bestActress, df_bestDirectors, df_bestSuppActor, df_bestSuppActress]\n",
    "theMoviesDF = reduce(lambda df1,df2: pd.merge(df1,df2,on=['Title'], how='left'), dfs)\n",
    "theMoviesDF.fillna(0, inplace=True)\n",
    "# theMoviesDF.to_csv('../DataSources/theMovieFeatures.csv', index=False)\n",
    "theMoviesDF.shape"
   ]
  },
  {
   "cell_type": "code",
   "execution_count": null,
   "metadata": {},
   "outputs": [],
   "source": [
    "theMovies"
   ]
  },
  {
   "cell_type": "code",
   "execution_count": null,
   "metadata": {},
   "outputs": [],
   "source": []
  }
 ],
 "metadata": {
  "kernelspec": {
   "display_name": "Python 3",
   "language": "python",
   "name": "python3"
  },
  "language_info": {
   "codemirror_mode": {
    "name": "ipython",
    "version": 3
   },
   "file_extension": ".py",
   "mimetype": "text/x-python",
   "name": "python",
   "nbconvert_exporter": "python",
   "pygments_lexer": "ipython3",
   "version": "3.7.0"
  }
 },
 "nbformat": 4,
 "nbformat_minor": 2
}
